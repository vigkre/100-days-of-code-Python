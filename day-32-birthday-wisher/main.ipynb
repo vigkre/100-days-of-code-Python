{
 "cells": [
  {
   "cell_type": "markdown",
   "id": "27ad534d",
   "metadata": {},
   "source": [
    "##################### Extra Hard Starting Project ######################\n",
    "\n",
    "# 1. Update the birthdays.csv\n",
    "\n",
    "# 2. Check if today matches a birthday in the birthdays.csv\n",
    "\n",
    "# 3. If step 2 is true, pick a random letter from letter templates and replace the [NAME] with the person's actual name from birthdays.csv\n",
    "\n",
    "# 4. Send the letter generated in step 3 to that person's email address."
   ]
  },
  {
   "cell_type": "code",
   "execution_count": null,
   "id": "88cbb631",
   "metadata": {},
   "outputs": [
    {
     "name": "stdout",
     "output_type": "stream",
     "text": [
      "{(12, 21): name               Test\n",
      "email    test@email.com\n",
      "year               1961\n",
      "month                12\n",
      "day                  21\n",
      "Name: 0, dtype: object, (6, 16): name                            appa\n",
      "email     vikramvikey30196@gmail.com\n",
      "year                            1962\n",
      "month                              6\n",
      "day                               16\n",
      "Name: 1, dtype: object}\n"
     ]
    }
   ],
   "source": [
    "\n",
    "import datetime as dt\n",
    "import os\n",
    "import random\n",
    "import smtplib\n",
    "import pandas as pd\n",
    "\n",
    "# 1. Update the birthdays.csv\n",
    "\n",
    "# 2. Check if today matches a birthday in the birthdays.csv\n",
    "now = dt.datetime.now()\n",
    "month = now.month\n",
    "today = now.day\n",
    "\n",
    "birthday_data = pd.read_csv(\"./birthdays.csv\")\n",
    "        \n",
    "# today = dt.datetime.now()\n",
    "# today_tuple = (today.month, today.day)\n",
    "\n",
    "# birthdays_dict = {(data_row[\"month\"], data_row[\"day\"]): data_row for (_, data_row) in birthday_data.iterrows()}\n",
    "# print(birthdays_dict)\n",
    "\n",
    "for (index, birthday) in birthday_data.iterrows():\n",
    "    if today == birthday[\"day\"] and month == birthday[\"month\"]:\n",
    "        # 3. If step 2 is true, pick a random letter from letter templates and replace the [NAME] with the person's actual name from birthdays.csv\n",
    "\n",
    "        # Define the folder containing the templates\n",
    "        folder_path = \"letter_templates\"\n",
    "\n",
    "        # Ensure the folder exists\n",
    "        if not os.path.exists(folder_path):\n",
    "            raise FileNotFoundError(f\"The folder '{folder_path}' does not exist.\")\n",
    "\n",
    "        # List all .txt files in the folder\n",
    "        template_files = [f for f in os.listdir(folder_path) if f.endswith('.txt')]\n",
    "\n",
    "        # Check if there are any text files\n",
    "        if not template_files:\n",
    "            raise FileNotFoundError(\"No .txt files found in the 'templates' folder.\")\n",
    "\n",
    "        # Randomly select one file\n",
    "        selected_file = random.choice(template_files)\n",
    "\n",
    "        # Construct the full path\n",
    "        selected_file_path = os.path.join(folder_path, selected_file)\n",
    "\n",
    "        # Read and print the content\n",
    "        with open(selected_file_path, 'r') as file:\n",
    "            content = file.read()\n",
    "\n",
    "        new_letter = content.replace(\"[NAME]\", birthday[\"name\"])\n",
    "                \n",
    "        # 4. Send the letter generated in step 3 to that person's email address.\n",
    "        my_email = \"savikram007@gmail.com\"\n",
    "        password = \"jslr rmpp namm gsvx\"\n",
    "\n",
    "        with smtplib.SMTP(host=\"smtp.gmail.com\", port=587) as connection:\n",
    "            connection.starttls()\n",
    "            connection.login(user=my_email, password=password)\n",
    "            connection.sendmail(\n",
    "                from_addr=my_email,\n",
    "                to_addrs=birthday[\"email\"],\n",
    "                msg=new_letter,\n",
    "            )"
   ]
  }
 ],
 "metadata": {
  "kernelspec": {
   "display_name": ".venv",
   "language": "python",
   "name": "python3"
  },
  "language_info": {
   "codemirror_mode": {
    "name": "ipython",
    "version": 3
   },
   "file_extension": ".py",
   "mimetype": "text/x-python",
   "name": "python",
   "nbconvert_exporter": "python",
   "pygments_lexer": "ipython3",
   "version": "3.11.6"
  }
 },
 "nbformat": 4,
 "nbformat_minor": 5
}
